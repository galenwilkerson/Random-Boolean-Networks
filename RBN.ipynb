{
 "cells": [
  {
   "cell_type": "markdown",
   "metadata": {},
   "source": [
    "# Random Boolean Networks\n",
    "\n",
    "## Galen Wilkerson\n",
    "gjwilkerson@gmail.com"
   ]
  },
  {
   "cell_type": "markdown",
   "metadata": {},
   "source": [
    "## This notebook builds and runs basic Random Boolean Networks\n",
    "\n",
    "Kauffman, Stuart. \"Homeostasis and differentiation in random genetic control networks.\" Nature 224.5215 (1969): 177-178.\n",
    "\n",
    "More here:\n",
    "https://en.wikipedia.org/wiki/Boolean_network\n",
    "\n",
    "Basically, a Random Boolean Network is a directed network where each of the $N$ nodes has $k$ random neigbors."
   ]
  },
  {
   "cell_type": "code",
   "execution_count": 1,
   "metadata": {},
   "outputs": [],
   "source": [
    "import numpy as np\n",
    "import itertools as it\n",
    "import pandas as pd\n",
    "import networkx as nx\n",
    "import seaborn as sns\n",
    "import matplotlib.pyplot as plt\n",
    "\n",
    "%matplotlib inline"
   ]
  },
  {
   "cell_type": "markdown",
   "metadata": {},
   "source": [
    "# Possible Boolean Functions on m rows"
   ]
  },
  {
   "cell_type": "code",
   "execution_count": 2,
   "metadata": {},
   "outputs": [
    {
     "data": {
      "text/plain": [
       "256"
      ]
     },
     "execution_count": 2,
     "metadata": {},
     "output_type": "execute_result"
    }
   ],
   "source": [
    "N = 10 # number of nodes\n",
    "k = 3  # number of inputs per node\n",
    "\n",
    "m = 2**k  # number of rows\n",
    "num_functions = 2**m\n",
    "num_functions"
   ]
  },
  {
   "cell_type": "markdown",
   "metadata": {},
   "source": [
    "## inputs of truth table"
   ]
  },
  {
   "cell_type": "code",
   "execution_count": 3,
   "metadata": {},
   "outputs": [
    {
     "data": {
      "text/plain": [
       "array([[0, 0, 0],\n",
       "       [0, 0, 1],\n",
       "       [0, 1, 0],\n",
       "       [0, 1, 1],\n",
       "       [1, 0, 0],\n",
       "       [1, 0, 1],\n",
       "       [1, 1, 0],\n",
       "       [1, 1, 1]])"
      ]
     },
     "execution_count": 3,
     "metadata": {},
     "output_type": "execute_result"
    }
   ],
   "source": [
    "truth_inputs = np.array(list(it.product([0,1], repeat=k)))\n",
    "truth_inputs"
   ]
  },
  {
   "cell_type": "markdown",
   "metadata": {},
   "source": [
    "## possible outputs of each row"
   ]
  },
  {
   "cell_type": "code",
   "execution_count": 4,
   "metadata": {
    "scrolled": true
   },
   "outputs": [
    {
     "data": {
      "text/plain": [
       "(256, 8)"
      ]
     },
     "execution_count": 4,
     "metadata": {},
     "output_type": "execute_result"
    }
   ],
   "source": [
    "# each row is the output of a truth table\n",
    "#m = 5\n",
    "combs = list(it.product([0,1], repeat=m))\n",
    "possible_output_functions = np.array(combs)\n",
    "possible_output_functions.shape"
   ]
  },
  {
   "cell_type": "code",
   "execution_count": 5,
   "metadata": {},
   "outputs": [],
   "source": [
    "class RBN:\n",
    "    '''\n",
    "    '''\n",
    "    \n",
    "    def __init__(self, N, k):#, num_iterations = 10):\n",
    "        '''\n",
    "        create the network, \n",
    "        assign Boolean functions to each node, \n",
    "        and initalize the node states\n",
    "        '''\n",
    "        \n",
    "        self.G = nx.DiGraph(N = N)\n",
    "        self.G.add_nodes_from(range(N))\n",
    "\n",
    "#         for i in range(N):\n",
    "#             while self.G.in_degree(i) < k:\n",
    "#                 new_neighbor = np.random.randint(N)\n",
    "#                 if (new_neighbor != i):\n",
    "#                     self.G.add_edge(new_neighbor, i)\n",
    "                    \n",
    "        node_list = list(range(N))\n",
    "\n",
    "        # add k edges per node\n",
    "        for i in node_list:\n",
    "            node_list_without_i = node_list\n",
    "            node_list_without_i.remove(i)\n",
    "            neighbors = np.random.choice(node_list_without_i, k, replace=False)\n",
    "            for j in neighbors:\n",
    "                self.G.add_edge(j,i)\n",
    "            \n",
    "\n",
    "        self.m = 2**k  # number of rows\n",
    "        self.num_functions = 2**self.m\n",
    "        \n",
    "        # global list of truth table inputs\n",
    "        self.truth_inputs = np.array(list(it.product([0,1], repeat=k)))   \n",
    "               \n",
    "        # each row is the output of a truth table\n",
    "        combs = list(it.product([0,1], repeat=self.m))\n",
    "        self.possible_output_functions = np.array(combs)\n",
    "        \n",
    "        # assign Boolean function to each node\n",
    "        self.node_functions = self.possible_output_functions[np.random.randint(self.num_functions, size=N)]\n",
    "        \n",
    "        # the initial node states\n",
    "        self.node_states = np.random.randint(2, size = N)\n",
    "    \n",
    "        self.pos = {} # for storing node positions when drawing\n",
    "    \n",
    "    def draw(self, fig_size = [5,5]):\n",
    "        '''\n",
    "        draw the network\n",
    "        '''\n",
    "#         pos = nx.circular_layout(self.G)\n",
    "        #nx.draw(self.G, pos = None, with_labels=True, node_color='lightblue')\n",
    "    \n",
    "    \n",
    "        on_nodes = list(np.where(self.node_states == 1)[0])\n",
    "        off_nodes = list(np.where(self.node_states == 0)[0])\n",
    "\n",
    "        plt.figure(figsize=fig_size)\n",
    "        plt.title('RBN with node states')\n",
    "        plt.box(on=None)\n",
    "        if self.pos == {}:\n",
    "            self.pos = nx.spring_layout(self.G)\n",
    "        \n",
    "        nx.draw_networkx_nodes(self.G, pos=self.pos, nodelist=on_nodes,\n",
    "                               node_color='lightgreen', label='on nodes');\n",
    "        nx.draw_networkx_nodes(self.G, pos=self.pos, nodelist=off_nodes, edgecolors='grey',\n",
    "                               node_color='lightblue', label='off nodes');\n",
    "        nx.draw_networkx_labels(self.G, self.pos, font_color = 'red', font_weight = 'bold')\n",
    "        nx.draw_networkx_edges(self.G, pos=self.pos, edge_color='lightgrey')\n",
    "        plt.legend(scatterpoints = 1)\n",
    "        plt.show()\n",
    "    \n",
    "    \n",
    "    def binary_to_int(self, input_vals):\n",
    "        '''\n",
    "        take any list or 1-dim array of binary values and convert to integer\n",
    "        '''\n",
    "        string_list = np.array(input_vals).astype(str)\n",
    "        concated_string = ''.join(string_list)\n",
    "        integer_val = int(concated_string, 2)\n",
    "        return(integer_val)\n",
    "    \n",
    "    \n",
    "    def run(self, num_iterations = 100):\n",
    "        '''\n",
    "        run the RBN\n",
    "        '''\n",
    "        \n",
    "        self.num_iterations = num_iterations\n",
    "        \n",
    "        states = []\n",
    "        \n",
    "        for it in range(self.num_iterations):\n",
    "#             print(self.node_states)\n",
    "            states.append(self.binary_to_int(self.node_states))\n",
    "            next_states = np.zeros(self.G.number_of_nodes(), dtype=int)\n",
    "        \n",
    "            for i in range(self.G.number_of_nodes()):\n",
    "                neighbor_states = []\n",
    "\n",
    "                in_neighbors = list(self.G.predecessors(i))\n",
    "    #             print(in_neighbors)\n",
    "    \n",
    "                # get the states of all i's incoming neighbors\n",
    "                for j in range(len(in_neighbors)):\n",
    "\n",
    "                    neighbor_states.append(self.node_states[in_neighbors[j]])\n",
    "#                 neighbor_states_int = (int(''.join(np.array(neighbor_states).astype(str)),2))\n",
    "                try:\n",
    "                    neighbor_states_int = self.binary_to_int(neighbor_states)\n",
    "                except:\n",
    "                    continue\n",
    "                    #print(neighbor_states)\n",
    "                function_value = self.node_functions[i][neighbor_states_int]\n",
    "                next_states[i] = function_value\n",
    "\n",
    "            if np.array_equal(self.node_states,next_states):\n",
    "                exit()\n",
    "            else:\n",
    "                self.node_states = next_states\n",
    "                \n",
    "        # since states are binary and listed in order of nodes, we can convert to unique integers\n",
    "        states.append(self.binary_to_int(self.node_states))\n",
    "        self.run_states = np.array(states)\n",
    "   \n",
    "        self.state_graph = nx.DiGraph()\n",
    "        self.state_graph.add_nodes_from(set(self.run_states))\n",
    "\n",
    "        for i in range(len(self.run_states)-1):\n",
    "            j = i + 1\n",
    "            self.state_graph.add_edge(self.run_states[i],self.run_states[j])\n",
    "\n",
    "    def draw_state_graph(self):\n",
    "#         pos = nx.circular_layout(selfstate_graph)\n",
    "#         nx.draw(self.state_graph, node_color='lightblue', with_labels=True)\n",
    "\n",
    "        plt.figure()\n",
    "        plt.title('state graph')\n",
    "        try:\n",
    "            eigvec_centrality = nx.eigenvector_centrality_numpy(self.state_graph)\n",
    "            nx.draw(self.state_graph, with_labels = True,\n",
    "                node_color = np.round(list(eigvec_centrality.values()), 2), \n",
    "                cmap = plt.cm.get_cmap('Greys'))\n",
    "            \n",
    "        except:\n",
    "            nx.draw(self.state_graph, with_labels = True,\n",
    "                    cmap = plt.cm.get_cmap('Greys'))\n",
    "#         plt.legend(scatterpoints = 1)\n",
    "    \n",
    "        plt.show();\n",
    "    \n",
    "    \n",
    "    def list_state_loops(self):\n",
    "        return(list(nx.cycles.simple_cycles(self.state_graph)))\n",
    "        \n",
    "    def draw_state_graph_heatmap(self):\n",
    "        adj = nx.adjacency_matrix(self.state_graph).todense()\n",
    "        sns.heatmap(adj, xticklabels=list(self.state_graph.nodes), yticklabels=list(self.state_graph.nodes));"
   ]
  },
  {
   "cell_type": "code",
   "execution_count": 6,
   "metadata": {},
   "outputs": [
    {
     "data": {
      "image/png": "[encoded data removed]",
      "text/plain": [
       "<Figure size 360x360 with 1 Axes>"
      ]
     },
     "metadata": {},
     "output_type": "display_data"
    }
   ],
   "source": [
    "rbn = RBN(N = 10, k = 2)\n",
    "rbn.draw()"
   ]
  },
  {
   "cell_type": "markdown",
   "metadata": {},
   "source": [
    "## run one step"
   ]
  },
  {
   "cell_type": "code",
   "execution_count": 7,
   "metadata": {},
   "outputs": [
    {
     "data": {
      "image/png": "[encoded data removed]",
      "text/plain": [
       "<Figure size 360x360 with 1 Axes>"
      ]
     },
     "metadata": {},
     "output_type": "display_data"
    }
   ],
   "source": [
    "rbn.run(num_iterations=1)\n",
    "rbn.draw()"
   ]
  },
  {
   "cell_type": "code",
   "execution_count": 8,
   "metadata": {},
   "outputs": [
    {
     "data": {
      "text/plain": [
       "array([1, 0, 1, 0, 1, 0, 1, 0, 0, 0])"
      ]
     },
     "execution_count": 8,
     "metadata": {},
     "output_type": "execute_result"
    }
   ],
   "source": [
    "rbn.node_states"
   ]
  },
  {
   "cell_type": "markdown",
   "metadata": {},
   "source": [
    "## At any given time, the network state is just the on/off pattern of the nodes\n",
    "\n",
    "## Let's show the states it explores when run many times\n",
    "\n",
    "## since states are binary and listed in order of nodes, we can convert to unique integers\n"
   ]
  },
  {
   "cell_type": "code",
   "execution_count": 9,
   "metadata": {},
   "outputs": [
    {
     "data": {
      "image/png": "[encoded data removed]",
      "text/plain": [
       "<Figure size 360x360 with 1 Axes>"
      ]
     },
     "metadata": {},
     "output_type": "display_data"
    }
   ],
   "source": [
    "rbn.run(num_iterations=100)\n",
    "rbn.draw()"
   ]
  },
  {
   "cell_type": "code",
   "execution_count": 10,
   "metadata": {},
   "outputs": [
    {
     "data": {
      "text/plain": [
       "array([1, 0, 0, 0, 1, 0, 1, 0, 1, 0])"
      ]
     },
     "execution_count": 10,
     "metadata": {},
     "output_type": "execute_result"
    }
   ],
   "source": [
    "rbn.node_states"
   ]
  },
  {
   "cell_type": "code",
   "execution_count": 11,
   "metadata": {},
   "outputs": [
    {
     "data": {
      "image/png": "[encoded data removed]",
      "text/plain": [
       "<Figure size 432x288 with 1 Axes>"
      ]
     },
     "metadata": {},
     "output_type": "display_data"
    }
   ],
   "source": [
    "rbn.draw_state_graph()"
   ]
  },
  {
   "cell_type": "markdown",
   "metadata": {},
   "source": [
    "## We can list the simple cycles in the state graph"
   ]
  },
  {
   "cell_type": "code",
   "execution_count": 12,
   "metadata": {},
   "outputs": [
    {
     "data": {
      "text/plain": [
       "[[554]]"
      ]
     },
     "execution_count": 12,
     "metadata": {},
     "output_type": "execute_result"
    }
   ],
   "source": [
    "rbn.list_state_loops()"
   ]
  },
  {
   "cell_type": "markdown",
   "metadata": {},
   "source": [
    "## Which states are most central?"
   ]
  },
  {
   "cell_type": "markdown",
   "metadata": {},
   "source": [
    "## Let's round the centrality to undertand them better"
   ]
  },
  {
   "cell_type": "code",
   "execution_count": 13,
   "metadata": {},
   "outputs": [
    {
     "data": {
      "text/plain": [
       "array([0., 0., 1.])"
      ]
     },
     "execution_count": 13,
     "metadata": {},
     "output_type": "execute_result"
    }
   ],
   "source": [
    "eigvec_centrality = nx.eigenvector_centrality_numpy(rbn.state_graph)\n",
    "\n",
    "eigenvals = np.array(list(eigvec_centrality.values()))\n",
    "\n",
    "np.round(eigenvals,3)"
   ]
  },
  {
   "cell_type": "code",
   "execution_count": 14,
   "metadata": {},
   "outputs": [
    {
     "data": {
      "text/plain": [
       "[680, 42, 554]"
      ]
     },
     "execution_count": 14,
     "metadata": {},
     "output_type": "execute_result"
    }
   ],
   "source": [
    "list(eigvec_centrality.keys())"
   ]
  }
 ],
 "metadata": {
  "kernelspec": {
   "display_name": "Python 3",
   "language": "python",
   "name": "python3"
  },
  "language_info": {
   "codemirror_mode": {
    "name": "ipython",
    "version": 3
   },
   "file_extension": ".py",
   "mimetype": "text/x-python",
   "name": "python",
   "nbconvert_exporter": "python",
   "pygments_lexer": "ipython3",
   "version": "3.6.5"
  },
  "latex_envs": {
   "LaTeX_envs_menu_present": true,
   "autoclose": false,
   "autocomplete": true,
   "bibliofile": "biblio.bib",
   "cite_by": "apalike",
   "current_citInitial": 1,
   "eqLabelWithNumbers": true,
   "eqNumInitial": 1,
   "hotkeys": {
    "equation": "Ctrl-E",
    "itemize": "Ctrl-I"
   },
   "labels_anchors": false,
   "latex_user_defs": false,
   "report_style_numbering": false,
   "user_envs_cfg": false
  }
 },
 "nbformat": 4,
 "nbformat_minor": 2
}
